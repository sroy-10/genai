{
  "nbformat": 4,
  "nbformat_minor": 0,
  "metadata": {
    "colab": {
      "provenance": [],
      "authorship_tag": "ABX9TyMu77T098BQzXsjFnAcUtRv",
      "include_colab_link": true
    },
    "kernelspec": {
      "name": "python3",
      "display_name": "Python 3"
    },
    "language_info": {
      "name": "python"
    }
  },
  "cells": [
    {
      "cell_type": "markdown",
      "metadata": {
        "id": "view-in-github",
        "colab_type": "text"
      },
      "source": [
        "<a href=\"https://colab.research.google.com/github/sroy-10/genai/blob/main/LangChain/LangChain_v0.3_Chains.ipynb\" target=\"_parent\"><img src=\"https://colab.research.google.com/assets/colab-badge.svg\" alt=\"Open In Colab\"/></a>"
      ]
    },
    {
      "cell_type": "code",
      "execution_count": null,
      "metadata": {
        "id": "-5PI8udpCkmi"
      },
      "outputs": [],
      "source": [
        "!pip install -r requirements.txt -q"
      ]
    },
    {
      "cell_type": "code",
      "source": [
        "import os\n",
        "import langchain\n",
        "from dotenv import load_dotenv\n",
        "from langchain_openai import AzureChatOpenAI\n",
        "\n",
        "load_dotenv(\"var.env\")\n",
        "\n",
        "print(langchain.__version__) # 0.3.25\n",
        "\n",
        "os.environ[\"AZURE_OPENAI_API_KEY\"] = os.environ[\"AZ_API_KEY\"]\n",
        "os.environ[\"AZURE_OPENAI_ENDPOINT\"] = os.getenv(\"AZ_BASE\") # https://YOUR-ENDPOINT.openai.azure.com/\n",
        "\n",
        "model = AzureChatOpenAI(\n",
        "    azure_deployment=os.getenv(\"AZ_MODEL\"),\n",
        "    api_version=os.getenv(\"AZ_API_VERSION\"),\n",
        "    temperature=0,\n",
        "    max_tokens=None,\n",
        "    timeout=None,\n",
        "    max_retries=2,\n",
        "    # other params...\n",
        ")"
      ],
      "metadata": {
        "id": "1AaGSyo3Cqk9"
      },
      "execution_count": null,
      "outputs": []
    },
    {
      "cell_type": "markdown",
      "source": [
        "## Simple Chains"
      ],
      "metadata": {
        "id": "HR7HjTSVNdXU"
      }
    },
    {
      "cell_type": "code",
      "source": [
        "from langchain_core.prompts import PromptTemplate\n",
        "from langchain_core.output_parsers import StrOutputParser\n",
        "template = PromptTemplate(template=\"generate 5 interesting facts about {topic}\", input_variables=['topic'])\n",
        "parser = StrOutputParser()\n",
        "chain = template | model | parser\n",
        "chain.invoke({\"topic\": \"cricket\"})"
      ],
      "metadata": {
        "id": "uJ9aBTJMCr80"
      },
      "execution_count": null,
      "outputs": []
    },
    {
      "cell_type": "markdown",
      "source": [
        "**OUTPUT:**\n",
        "\n",
        "```\n",
        "Certainly! Here are five interesting facts about cricket:\n",
        "\n",
        "1. **Oldest International Sport**: Cricket is one of the oldest team sports in the world, with the first recorded international match taking place between the United States and Canada in 1844. This predates the first official Test match, which was played between England and Australia in 1877.\n",
        "\n",
        "2. **The Ashes Rivalry**: The Ashes is one of the most famous and storied rivalries in cricket, contested between England and Australia. It began in 1882 after Australia defeated England at The Oval, leading to a satirical obituary in a British newspaper stating that English cricket had died, and \"the body will be cremated and the ashes taken to Australia.\" The series has been fiercely contested ever since.\n",
        "\n",
        "3. **Longest Match**: The longest cricket match in history was a Test match played between England and South Africa in 1939. It lasted for 12 days, with nine days of actual play, and ended in a draw because the English team had to catch their boat back home. This match is famously known as the \"Timeless Test.\"\n",
        "\n",
        "4. **Sachin Tendulkar's Records**: Indian cricketer Sachin Tendulkar holds numerous records in cricket, including being the only player to have scored one hundred international centuries. He is also the first player to score a double century in a One Day International (ODI) match, achieving this feat against South Africa in 2010.\n",
        "\n",
        "5. **Cricket's Global Reach**: While cricket is most popular in countries like India, Australia, England, and Pakistan, it is played in over 100 countries worldwide. The International Cricket Council (ICC) has 12 full members and 94 associate members, highlighting the sport's global appeal and growth beyond its traditional strongholds.\n",
        "```"
      ],
      "metadata": {
        "id": "4I4HROkQONhM"
      }
    },
    {
      "cell_type": "markdown",
      "source": [
        "#### To visualize the chains"
      ],
      "metadata": {
        "id": "uqfbbxsVOiEE"
      }
    },
    {
      "cell_type": "code",
      "source": [
        "!pip install grandalf -q"
      ],
      "metadata": {
        "id": "q0kLima7OkHk"
      },
      "execution_count": null,
      "outputs": []
    },
    {
      "cell_type": "code",
      "source": [
        "# to visualize the chain\n",
        "chain.get_graph().print_ascii()"
      ],
      "metadata": {
        "id": "0eMPvwliOFCH"
      },
      "execution_count": null,
      "outputs": []
    },
    {
      "cell_type": "markdown",
      "source": [
        "![Screenshot 2025-06-24 135505.png](data:image/png;base64,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)"
      ],
      "metadata": {
        "id": "sNSJm7WaCbZw"
      }
    },
    {
      "cell_type": "markdown",
      "source": [
        "## Sequential Chains"
      ],
      "metadata": {
        "id": "a8yQMxeKOvp8"
      }
    },
    {
      "cell_type": "code",
      "source": [
        "template_1 = PromptTemplate(template = \"Generate a detailed report on {topic}\", input_variables=['topic'])\n",
        "template_2 = PromptTemplate(template = \"Generate a 5 pointer summary from the following text \\n {text}\", input_variables=['text'])\n",
        "parser = StrOutputParser()\n",
        "\n",
        "chain = template_1 | model | parser | template_2 | model | parser\n",
        "chain.invoke({'topic': \"unemployment in india\"})"
      ],
      "metadata": {
        "id": "CQPZbCu_OYys"
      },
      "execution_count": null,
      "outputs": []
    },
    {
      "cell_type": "markdown",
      "source": [
        "**OUTPUT:**\n",
        "\n",
        "```\n",
        "1. **Current Unemployment Scenario**: India's unemployment rate in 2023 is around 7-8%, influenced by economic policies, global conditions, and the COVID-19 pandemic, with variations across states and regions.\n",
        "\n",
        "2. **Causes of Unemployment**: Key factors include high population growth, economic slowdowns, skill mismatches, agricultural dependence, and structural issues like inadequate infrastructure and regulatory challenges.\n",
        "\n",
        "3. **Impact of Unemployment**: Unemployment leads to economic challenges such as reduced consumer spending, social issues like poverty and inequality, and political instability due to pressure on governments to create jobs.\n",
        "\n",
        "4. **Government Initiatives**: Efforts to combat unemployment include the Skill India Mission, Make in India, Startup India, and MGNREGA, focusing on skill development, manufacturing, entrepreneurship, and rural employment.\n",
        "\n",
        "5. **Potential Solutions**: Addressing unemployment requires education reform for skill development, fostering entrepreneurship, investing in infrastructure, and implementing policy reforms to improve the business environment and attract investment.\n",
        "```"
      ],
      "metadata": {
        "id": "KPZGX1jvSVjt"
      }
    },
    {
      "cell_type": "code",
      "source": [
        "print(\"-- chain.get_name() -- \\n\", chain.get_name())\n",
        "print(\"*\"*75)\n",
        "print(\"-- chain.get_prompts() -- \\n\", chain.get_prompts())\n",
        "print(\"*\"*75)\n",
        "print(\"-- chain.get_output_jsonschema() -- \\n\", chain.get_output_jsonschema())\n",
        "print(\"*\"*75)\n",
        "print(\"-- chain.get_graph().first_node() -- \\n\", chain.get_graph().first_node())\n",
        "print(\"*\"*75)\n",
        "print(\"-- chain.get_graph().last_node() -- \\n\", chain.get_graph().last_node())"
      ],
      "metadata": {
        "id": "Xgu_gD52PvmF"
      },
      "execution_count": null,
      "outputs": []
    },
    {
      "cell_type": "markdown",
      "source": [
        "**OUTPUT**\n",
        "\n",
        "```\n",
        "-- chain.get_name() --\n",
        " RunnableSequence\n",
        "***************************************************************************\n",
        "-- chain.get_prompts() --\n",
        " [PromptTemplate(input_variables=['topic'], input_types={}, partial_variables={}, template='Generate a detailed report on {topic}'), PromptTemplate(input_variables=['text'], input_types={}, partial_variables={}, template='Generate a 5 pointer summary from the following text \\n {text}')]\n",
        "***************************************************************************\n",
        "-- chain.get_output_jsonschema() --\n",
        " {'title': 'StrOutputParserOutput', 'type': 'string'}\n",
        "***************************************************************************\n",
        "-- chain.get_graph().first_node() --\n",
        " Node(id='70d1d356b13144e08237fab2b6b0f2df', name='PromptInput', data=<class 'langchain_core.utils.pydantic.PromptInput'>, metadata=None)\n",
        "***************************************************************************\n",
        "-- chain.get_graph().last_node() --\n",
        " Node(id='fb91f8fa87524dd2a0988324a7feabff', name='StrOutputParserOutput', data=<class 'langchain_core.output_parsers.string.StrOutputParserOutput'>, metadata=None)\n",
        "```"
      ],
      "metadata": {
        "id": "HpvYUc3dCxIv"
      }
    },
    {
      "cell_type": "code",
      "source": [
        "# !pip install pygraphviz -q\n",
        "# chain.get_graph().draw_png() → graph as png"
      ],
      "metadata": {
        "id": "xnnyW_ZrRM00"
      },
      "execution_count": null,
      "outputs": []
    },
    {
      "cell_type": "code",
      "source": [
        "chain.get_graph().print_ascii()"
      ],
      "metadata": {
        "id": "1wAeAL_SQSW0"
      },
      "execution_count": null,
      "outputs": []
    },
    {
      "cell_type": "markdown",
      "source": [
        "```\n",
        "     +-------------+       \n",
        "     | PromptInput |       \n",
        "     +-------------+       \n",
        "            *              \n",
        "            *              \n",
        "            *              \n",
        "    +----------------+     \n",
        "    | PromptTemplate |     \n",
        "    +----------------+     \n",
        "            *              \n",
        "            *              \n",
        "            *              \n",
        "   +-----------------+     \n",
        "   | AzureChatOpenAI |     \n",
        "   +-----------------+     \n",
        "            *              \n",
        "            *              \n",
        "            *              \n",
        "   +-----------------+     \n",
        "   | StrOutputParser |     \n",
        "   +-----------------+     \n",
        "            *              \n",
        "            *              \n",
        "            *              \n",
        "+-----------------------+  \n",
        "| StrOutputParserOutput |  \n",
        "+-----------------------+  \n",
        "            *              \n",
        "            *              \n",
        "            *              \n",
        "    +----------------+     \n",
        "    | PromptTemplate |     \n",
        "    +----------------+     \n",
        "            *              \n",
        "            *              \n",
        "            *              \n",
        "   +-----------------+     \n",
        "   | AzureChatOpenAI |     \n",
        "   +-----------------+     \n",
        "            *              \n",
        "            *              \n",
        "            *              \n",
        "   +-----------------+     \n",
        "   | StrOutputParser |     \n",
        "   +-----------------+     \n",
        "            *              \n",
        "            *              \n",
        "            *              \n",
        "+-----------------------+  \n",
        "| StrOutputParserOutput |  \n",
        "+-----------------------+  \n",
        "```"
      ],
      "metadata": {
        "id": "SaTv0RZWC9Go"
      }
    },
    {
      "cell_type": "markdown",
      "source": [
        "## Parallel Chains"
      ],
      "metadata": {
        "id": "dM8nAMzySsSO"
      }
    },
    {
      "cell_type": "code",
      "source": [
        "from langchain_huggingface import ChatHuggingFace, HuggingFaceEndpoint\n",
        "from langchain.schema.runnable import RunnableParallel\n",
        "\n",
        "# environment variable should be named as HUGGINGFACEHUB_API_TOKEN\n",
        "\n",
        "llm = HuggingFaceEndpoint(\n",
        "    repo_id=\"google/gemma-2-2b-it\",\n",
        "    task=\"text-generation\"\n",
        ")\n",
        "\n",
        "model_hf_1 = ChatHuggingFace(llm=llm)\n",
        "\n",
        "llm = HuggingFaceEndpoint(\n",
        "    repo_id=\"microsoft/Phi-3-mini-4k-instruct\",\n",
        "    task=\"text-generation\",\n",
        "    max_new_tokens=512,\n",
        "    do_sample=False,\n",
        "    repetition_penalty=1.03,\n",
        ")\n",
        "\n",
        "model_hf_2 = ChatHuggingFace(llm=llm)\n",
        "\n",
        "template1 = PromptTemplate(template = \"Generate short and simple note from the following text: {text}\", input_variables=['text'])\n",
        "template2 = PromptTemplate(template = \"Generate a 5 short question answers from the following text\\n {text}\", input_variables=['text'])\n",
        "template3 = PromptTemplate(template = \"Merge the provided notes and quiz into a single document \\n notes -> {notes} and quiz -> {quiz}\", input_variables=['notes', 'quiz'])\n",
        "\n",
        "parser = StrOutputParser()\n",
        "\n",
        "# parallel chains\n",
        "parallel_chains = RunnableParallel({\n",
        "    'notes': template1 | model_hf_1 | parser,\n",
        "    'quiz': template2 | model_hf_2 | parser\n",
        "})\n",
        "\n",
        "# merge chains\n",
        "merge_chains = template3 | model | parser\n",
        "\n",
        "# connecting the parallel chains with merge chains\n",
        "chains = parallel_chains | merge_chains\n",
        "\n",
        "# note: we have used 3 different models to acheive each of the tasks\n",
        "\n",
        "text = \"\"\"\n",
        "Support vector machines (SVMs) are a set of supervised learning methods used for classification, regression and outliers detection.\n",
        "\n",
        "The advantages of support vector machines are:\n",
        "\n",
        "Effective in high dimensional spaces.\n",
        "\n",
        "Still effective in cases where number of dimensions is greater than the number of samples.\n",
        "\n",
        "Uses a subset of training points in the decision function (called support vectors), so it is also memory efficient.\n",
        "\n",
        "Versatile: different Kernel functions can be specified for the decision function. Common kernels are provided, but it is also possible to specify custom kernels.\n",
        "\n",
        "The disadvantages of support vector machines include:\n",
        "\n",
        "If the number of features is much greater than the number of samples, avoid over-fitting in choosing Kernel functions and regularization term is crucial.\n",
        "\n",
        "SVMs do not directly provide probability estimates, these are calculated using an expensive five-fold cross-validation (see Scores and probabilities, below).\n",
        "\n",
        "The support vector machines in scikit-learn support both dense (numpy.ndarray and convertible to that by numpy.asarray) and sparse (any scipy.sparse) sample vectors as input. However, to use an SVM to make predictions for sparse data, it must have been fit on such data. For optimal performance, use C-ordered numpy.ndarray (dense) or scipy.sparse.csr_matrix (sparse) with dtype=float64.\n",
        "\"\"\"\n",
        "\n",
        "result = chains.invoke({\"text\": text})\n",
        "result\n"
      ],
      "metadata": {
        "id": "2luDAgQrSCcO"
      },
      "execution_count": null,
      "outputs": []
    },
    {
      "cell_type": "markdown",
      "source": [
        "**OUTPUT**\n",
        "\n",
        "```\n",
        "# Support Vector Machines (SVMs)\n",
        "\n",
        "## Overview\n",
        "\n",
        "**What it is:**  \n",
        "Support Vector Machines (SVMs) are supervised learning methods used for classification, regression, and outlier detection.\n",
        "\n",
        "## Advantages\n",
        "\n",
        "- **High-Dimensional Spaces:** SVMs work well in high-dimensional spaces and are effective even when the number of features exceeds the number of samples.\n",
        "- **Memory Efficiency:** They are memory-efficient as they use a small subset of training data, known as support vectors, in the decision function.\n",
        "- **Versatility:** SVMs are versatile due to the ability to apply different kernel functions, including custom ones, to the decision function.\n",
        "\n",
        "## Disadvantages\n",
        "\n",
        "- **Overfitting Risk:** There is a risk of overfitting when the number of features is much larger than the number of samples. Careful selection of the kernel and regularization is necessary.\n",
        "- **Probability Estimates:** SVMs do not directly provide probability estimates. These estimates require cross-validation, which can be computationally expensive.\n",
        "\n",
        "## Best Input Practices\n",
        "\n",
        "- **Dense Array:** Use a C-ordered `numpy.ndarray` or a structure convertible to `numpy.asarray` for optimal performance.\n",
        "- **Sparse Array:** SVMs can also work with sparse data using `scipy.sparse` structures. For best results, use a `scipy.sparse.csr_matrix` with `dtype=float64`.\n",
        "\n",
        "## Notes for Using SVM in Scikit-learn\n",
        "\n",
        "- Research and select appropriate kernel functions and regularization terms to optimize performance.\n",
        "- Ensure the dataset is compatible with the chosen model.\n",
        "- Use cross-validation to calculate probabilities for accurate predictions.\n",
        "\n",
        "## Quiz\n",
        "\n",
        "1. **What are support vector machines (SVMs) primarily used for?**  \n",
        "   SVMs are supervised learning methods used for classification, regression, and outlier detection.\n",
        "\n",
        "2. **Why are SVMs effective in high-dimensional spaces?**  \n",
        "   SVMs are effective in high-dimensional spaces because they use a subset of training points in the decision function, known as support vectors, making them memory efficient.\n",
        "\n",
        "3. **How does SVM's versatility manifest?**  \n",
        "   SVM's versatility comes from the possibility of specifying different kernel functions for the decision function. They come with common kernels, but it is possible to specify custom ones.\n",
        "\n",
        "4. **What are some disadvantages of SVMs?**  \n",
        "   The main disadvantages include the danger of overfitting when the number of features greatly exceeds the number of samples, and the fact that SVMs do not directly produce probability estimates, which are calculated using a costly five-fold cross-validation.\n",
        "\n",
        "5. **What are the input requirements for optimal SVM's performance in scikit-learn?**  \n",
        "   Scikit-learn's SVMs support both dense (`numpy.ndarray`) and sparse (`any scipy.sparse`) sample vectors as input. However, to predict for sparse data, the model must have been fit on such data. For the best performance, use a C-ordered `numpy.ndarray` (dense) or a `scipy.sparse.csr_matrix` (sparse) with `dtype=float64`.\n",
        "```"
      ],
      "metadata": {
        "id": "J_l8ITPkAR-D"
      }
    },
    {
      "cell_type": "markdown",
      "source": [
        "### Note:\n",
        "\n",
        "In `RunnableParallel()` we need to mention the names of the `variables` which will be fed after parallel processing is completed. In our example, `notes` and `quiz` are the two variables in the merge chains. Hence, in `RunnableParallel()`, the two variables need to be mentioned.\n",
        "\n",
        "If the variables are not mentioned properly then the below error will occur:\n",
        "\n",
        "> KeyError: \"Input to PromptTemplate is missing variables {'notes'}.  Expected: ['notes', 'quiz'] Received: ['note', 'quiz']\\nNote: if you intended {notes} to be part of the string and not a variable, please escape it with double curly braces like: '{{notes}}'.\\nFor troubleshooting, visit: https://python.langchain.com/docs/troubleshooting/errors/INVALID_PROMPT_INPUT\"\n",
        "\n",
        "\n"
      ],
      "metadata": {
        "id": "6TzDGFGHAjT4"
      }
    },
    {
      "cell_type": "code",
      "source": [
        "chains.get_graph().print_ascii()"
      ],
      "metadata": {
        "id": "QwaViGlcSwBa"
      },
      "execution_count": null,
      "outputs": []
    },
    {
      "cell_type": "markdown",
      "source": [
        "```\n",
        "              +---------------------------+              \n",
        "              | Parallel<notes,quiz>Input |              \n",
        "              +---------------------------+              \n",
        "                  ***               ***                  \n",
        "               ***                     ***               \n",
        "             **                           **             \n",
        "+----------------+                    +----------------+\n",
        "| PromptTemplate |                    | PromptTemplate |\n",
        "+----------------+                    +----------------+\n",
        "          *                                   *          \n",
        "          *                                   *          \n",
        "          *                                   *          \n",
        "+-----------------+                  +-----------------+\n",
        "| ChatHuggingFace |                  | ChatHuggingFace |\n",
        "+-----------------+                  +-----------------+\n",
        "          *                                   *          \n",
        "          *                                   *          \n",
        "          *                                   *          \n",
        "+-----------------+                  +-----------------+\n",
        "| StrOutputParser |                  | StrOutputParser |\n",
        "+-----------------+                  +-----------------+\n",
        "                  ***               ***                  \n",
        "                     ***         ***                     \n",
        "                        **     **                        \n",
        "             +----------------------------+              \n",
        "             | Parallel<notes,quiz>Output |              \n",
        "             +----------------------------+              \n",
        "                            *                            \n",
        "                            *                            \n",
        "                            *                            \n",
        "                   +----------------+                    \n",
        "                   | PromptTemplate |                    \n",
        "                   +----------------+                    \n",
        "                            *                            \n",
        "                            *                            \n",
        "                            *                            \n",
        "                  +-----------------+                    \n",
        "                  | AzureChatOpenAI |                    \n",
        "                  +-----------------+                    \n",
        "                            *                            \n",
        "                            *                            \n",
        "                            *                            \n",
        "                  +-----------------+                    \n",
        "                  | StrOutputParser |                    \n",
        "                  +-----------------+                    \n",
        "                            *                            \n",
        "                            *                            \n",
        "                            *                            \n",
        "                +-----------------------+                \n",
        "                | StrOutputParserOutput |                \n",
        "                +-----------------------+                \n",
        "```"
      ],
      "metadata": {
        "id": "pdkMbmbkDSg4"
      }
    },
    {
      "cell_type": "markdown",
      "source": [
        "## Conditional Chains"
      ],
      "metadata": {
        "id": "j4K24p9VDdWB"
      }
    },
    {
      "cell_type": "code",
      "source": [
        "from langchain_core.output_parsers import PydanticOutputParser\n",
        "from pydantic import BaseModel, Field\n",
        "from typing import Literal\n",
        "\n",
        "class Feedback(BaseModel):\n",
        "  sentiment: Literal['positive', 'negative'] = Field(description = \"gives the sentiment of the feedback\")\n",
        "\n",
        "parser = StrOutputParser()\n",
        "parser_pd = PydanticOutputParser(pydantic_object=Feedback)\n",
        "\n",
        "template1 = PromptTemplate(\n",
        "    template = \"classify the sentiment of the following feedback text into positive or negative \\n {feedback}\",\n",
        "    input_variables=['feedback']\n",
        ")\n",
        "\n",
        "classifier_chain = template1 | model | parser\n",
        "result = classifier_chain.invoke({'feedback': 'this is a terrible smartphone'})\n",
        "print(result)\n",
        "print(\"=\"*72)\n",
        "\n",
        "# updating the template for pydantic instructions\n",
        "template1 = PromptTemplate(\n",
        "    template = \"classify the sentiment of the following feedback text into positive or negative \\n {feedback} \\n {format_instructions}\",\n",
        "    input_variables=['feedback'],\n",
        "    partial_variables={\"format_instructions\": parser_pd.get_format_instructions()}\n",
        ")\n",
        "classifier_chain = template1 | model | parser_pd\n",
        "result = classifier_chain.invoke({'feedback': 'this is a terrible smartphone'})\n",
        "print(result.sentiment)"
      ],
      "metadata": {
        "id": "UN8-OPOcDWEu"
      },
      "execution_count": null,
      "outputs": []
    },
    {
      "cell_type": "markdown",
      "source": [
        "**OUTPUT:**\n",
        "\n",
        "```\n",
        "Negative\n",
        "========================================================================\n",
        "negative\n",
        "```"
      ],
      "metadata": {
        "id": "22RquPcBLwDJ"
      }
    },
    {
      "cell_type": "code",
      "source": [
        "from langchain.schema.runnable import RunnableBranch, RunnableLambda\n",
        "\n",
        "template2 = PromptTemplate(\n",
        "    template = 'Write an appropriate response to this positive feedback \\n {feedback}',\n",
        "    input_variables=['feedback']\n",
        ")\n",
        "\n",
        "template3 = PromptTemplate(\n",
        "    template = 'Write an appropriate response to this negative feedback \\n {feedback}',\n",
        "    input_variables=['feedback']\n",
        ")\n",
        "\n",
        "branch_chain = RunnableBranch(\n",
        "    # (condition1, chain)\n",
        "    # (condition2, chain)\n",
        "    # ...\n",
        "    # default runnable chain\n",
        "    (lambda x: x.sentiment == \"positive\", template2 | model | parser),\n",
        "    (lambda x: x.sentiment == \"negative\", template3 | model | parser),\n",
        "    RunnableLambda(lambda x: \"couldn't find sentiment\")\n",
        ")\n",
        "\n",
        "final_chain = classifier_chain | branch_chain\n",
        "result = final_chain.invoke({'feedback': 'this is a terrible smartphone'})\n",
        "print(result)"
      ],
      "metadata": {
        "id": "PgrI6eXeDQEv"
      },
      "execution_count": null,
      "outputs": []
    },
    {
      "cell_type": "markdown",
      "source": [
        "**OUTPUT:**\n",
        "\n",
        "```\n",
        "Thank you for sharing your feedback with us. We’re sorry to hear that your experience didn’t meet your expectations. We value your input and are committed to improving our services. Please feel free to reach out to us directly at [contact information] so we can address your concerns and work towards a resolution. Your satisfaction is important to us, and we hope to have the opportunity to make things right.\n",
        "```"
      ],
      "metadata": {
        "id": "_Se-YRYDL0nZ"
      }
    },
    {
      "cell_type": "code",
      "source": [
        "result = final_chain.invoke({'feedback': 'this is an awesome smartphone'})\n",
        "print(result)"
      ],
      "metadata": {
        "id": "AQx_j4XzZ1sB"
      },
      "execution_count": null,
      "outputs": []
    },
    {
      "cell_type": "markdown",
      "source": [
        "**OUTPUT:**\n",
        "\n",
        "```\n",
        "Thank you so much for your positive feedback! I'm thrilled to hear that you had a great experience. Your support and satisfaction mean a lot to us, and we're committed to maintaining this level of service. If there's anything else we can do for you, please don't hesitate to let us know.\n",
        "```"
      ],
      "metadata": {
        "id": "BqRemCZzL6OC"
      }
    },
    {
      "cell_type": "code",
      "source": [],
      "metadata": {
        "id": "7p2_DirMZ6sW"
      },
      "execution_count": null,
      "outputs": []
    }
  ]
}