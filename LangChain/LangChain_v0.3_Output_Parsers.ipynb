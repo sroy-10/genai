{
  "nbformat": 4,
  "nbformat_minor": 0,
  "metadata": {
    "colab": {
      "provenance": [],
      "authorship_tag": "ABX9TyNIaARlaUmUhtzdJVcRs8sD",
      "include_colab_link": true
    },
    "kernelspec": {
      "name": "python3",
      "display_name": "Python 3"
    },
    "language_info": {
      "name": "python"
    }
  },
  "cells": [
    {
      "cell_type": "markdown",
      "metadata": {
        "id": "view-in-github",
        "colab_type": "text"
      },
      "source": [
        "<a href=\"https://colab.research.google.com/github/sroy-10/genai/blob/main/LangChain/LangChain_v0.3_Output_Parsers.ipynb\" target=\"_parent\"><img src=\"https://colab.research.google.com/assets/colab-badge.svg\" alt=\"Open In Colab\"/></a>"
      ]
    },
    {
      "cell_type": "code",
      "execution_count": null,
      "metadata": {
        "id": "-R1d6-b5SC1t"
      },
      "outputs": [],
      "source": [
        "!pip install -r requirements.txt -q"
      ]
    },
    {
      "cell_type": "code",
      "source": [
        "import os\n",
        "import langchain\n",
        "from dotenv import load_dotenv\n",
        "from langchain_openai import AzureChatOpenAI\n",
        "\n",
        "load_dotenv(\"var.env\")\n",
        "\n",
        "print(langchain.__version__) # 0.3.25\n",
        "\n",
        "os.environ[\"AZURE_OPENAI_API_KEY\"] = os.environ[\"AZ_API_KEY\"]\n",
        "os.environ[\"AZURE_OPENAI_ENDPOINT\"] = os.getenv(\"AZ_BASE\") # https://YOUR-ENDPOINT.openai.azure.com/\n",
        "\n",
        "model = AzureChatOpenAI(\n",
        "    azure_deployment=os.getenv(\"AZ_MODEL\"),\n",
        "    api_version=os.getenv(\"AZ_API_VERSION\"),\n",
        "    temperature=0,\n",
        "    max_tokens=None,\n",
        "    timeout=None,\n",
        "    max_retries=2,\n",
        "    # other params...\n",
        ")"
      ],
      "metadata": {
        "id": "8nEBgPC6azWJ"
      },
      "execution_count": null,
      "outputs": []
    },
    {
      "cell_type": "markdown",
      "source": [
        "## Intro\n",
        "\n",
        "The generic way of calling the model"
      ],
      "metadata": {
        "id": "i4Babu03Bup-"
      }
    },
    {
      "cell_type": "code",
      "source": [
        "from langchain_huggingface import ChatHuggingFace, HuggingFaceEndpoint\n",
        "llm = HuggingFaceEndpoint(\n",
        "    repo_id=\"google/gemma-2-2b-it\",\n",
        "    task=\"text-generation\"\n",
        ")\n",
        "\n",
        "model_hf = ChatHuggingFace(llm=llm)\n",
        "\n",
        "# 1st prompt -> detailed report\n",
        "template1 = PromptTemplate(\n",
        "    template='Write a detailed report on {topic}',\n",
        "    input_variables=['topic']\n",
        ")\n",
        "\n",
        "# 2nd prompt -> summary\n",
        "template2 = PromptTemplate(\n",
        "    template='Write a 5 line summary on the following text. /n {text}',\n",
        "    input_variables=['text']\n",
        ")\n",
        "\n",
        "prompt1 = template1.invoke({'topic':'black hole'})\n",
        "\n",
        "result = model.invoke(prompt1)\n",
        "\n",
        "prompt2 = template2.invoke({'text':result.content})\n",
        "\n",
        "result1 = model.invoke(prompt2)\n",
        "\n",
        "print(result1.content)\n"
      ],
      "metadata": {
        "id": "k6jlry8CfDs4"
      },
      "execution_count": null,
      "outputs": []
    },
    {
      "cell_type": "markdown",
      "source": [
        "**OUTPUT:**\n",
        "\n",
        "```\n",
        "The report \"Understanding Black Holes: A Comprehensive Overview\" explores the nature, formation, types, and significance of black holes, integrating theoretical frameworks like general relativity and quantum mechanics. It discusses the formation of stellar, supermassive, intermediate, and primordial black holes, and categorizes them into Schwarzschild, Kerr, Reissner-Nordström, and Kerr-Newman types. Observational evidence, including gravitational waves and images from the Event Horizon Telescope, supports their existence, while concepts like Hawking radiation and the information paradox challenge our understanding of quantum mechanics. Technological advancements, such as improved telescopes and simulations, are enhancing black hole research, promising deeper insights into these enigmatic cosmic phenomena.\n",
        "```"
      ],
      "metadata": {
        "id": "KHrlZWj33X0w"
      }
    },
    {
      "cell_type": "markdown",
      "source": [
        "## StrOutputParser"
      ],
      "metadata": {
        "id": "k7aWocLDbaJX"
      }
    },
    {
      "cell_type": "code",
      "source": [
        "from langchain_core.prompts import PromptTemplate\n",
        "\n",
        "template1 = PromptTemplate(template=\"Write a detailed report on {topic}\", input_variables=[\"topic\"])\n",
        "template2 = PromptTemplate(template=\"Write a 5 line summary on the following text:\\n{text}\", input_variables=[\"text\"])\n",
        "\n",
        "prompt1 = template1.invoke({'topic': 'black hole'})\n",
        "result1 = model.invoke(prompt1)\n",
        "\n",
        "prompt2 = template2.invoke({'text': result1.content})\n",
        "result2 = model.invoke(prompt2)\n",
        "\n",
        "print(\"1st LLM Call:\\n\", result1.content)\n",
        "print(\"=\"*72)\n",
        "print(\"\\n\\n2nd LLM Call:\\n\", result2.content)\n"
      ],
      "metadata": {
        "id": "frxObdvHa8Qn"
      },
      "execution_count": null,
      "outputs": []
    },
    {
      "cell_type": "markdown",
      "source": [
        "**OUTPUT:**\n",
        "\n",
        "```\n",
        "1st LLM Call:\n",
        " Title: Understanding Black Holes: A Comprehensive Overview\n",
        "\n",
        "---\n",
        "\n",
        "**Abstract:**\n",
        "\n",
        "Black holes are among the most fascinating and enigmatic objects in the universe. This report delves into the nature, formation, types, and significance of black holes, as well as the latest research and technological advancements in their study. By exploring the theoretical underpinnings and observational evidence, we aim to provide a comprehensive understanding of these cosmic phenomena.\n",
        "\n",
        "---\n",
        "\n",
        "**1. Introduction:**\n",
        "\n",
        "Black holes are regions in space where the gravitational pull is so strong that nothing, not even light, can escape from them. The concept of a black hole was first proposed in the 18th century, but it wasn't until the 20th century that the term \"black hole\" was coined and the theory of general relativity provided a framework for understanding them.\n",
        "\n",
        "---\n",
        "\n",
        "**2. Theoretical Background:**\n",
        "\n",
        "- **General Relativity:** Albert Einstein's theory of general relativity predicts the existence of black holes. According to this theory, massive objects warp the fabric of spacetime, and when a massive star collapses under its own gravity, it can form a black hole.\n",
        "\n",
        "- **Event Horizon:** The boundary surrounding a black hole is known as the event horizon. It marks the point beyond which nothing can return. The radius of the event horizon is called the Schwarzschild radius.\n",
        "\n",
        "- **Singularity:** At the core of a black hole lies the singularity, a point where density becomes infinite and the laws of physics as we know them cease to function.\n",
        "\n",
        "---\n",
        "\n",
        "**3. Formation of Black Holes:**\n",
        "\n",
        "- **Stellar Black Holes:** These form from the remnants of massive stars that have ended their life cycle. When a star exhausts its nuclear fuel, it may undergo a supernova explosion, leaving behind a core that collapses into a black hole.\n",
        "\n",
        "- **Supermassive Black Holes:** Found at the centers of most galaxies, including the Milky Way, these black holes have masses ranging from millions to billions of solar masses. Their formation is still a subject of research, with theories suggesting they may form from the merging of smaller black holes or from the direct collapse of massive gas clouds.\n",
        "\n",
        "- **Intermediate and Primordial Black Holes:** Intermediate black holes are thought to form through the merging of smaller black holes, while primordial black holes are hypothetical and may have formed soon after the Big Bang.\n",
        "\n",
        "---\n",
        "\n",
        "**4. Types of Black Holes:**\n",
        "\n",
        "- **Stellar Black Holes:** Typically 3 to 10 solar masses, these are the most common type of black holes.\n",
        "\n",
        "- **Supermassive Black Holes:** These are found at the centers of galaxies and can be millions to billions of times the mass of the Sun.\n",
        "\n",
        "- **Intermediate Black Holes:** These have masses between stellar and supermassive black holes and are less understood.\n",
        "\n",
        "- **Primordial Black Holes:** Hypothetical black holes that could have formed in the early universe.\n",
        "\n",
        "---\n",
        "\n",
        "**5. Observational Evidence:**\n",
        "\n",
        "- **Gravitational Waves:** The detection of gravitational waves from black hole mergers by LIGO and Virgo has provided direct evidence of their existence.\n",
        "\n",
        "- **X-ray Emissions:** As matter is drawn into a black hole, it heats up and emits X-rays, which can be detected by telescopes.\n",
        "\n",
        "- **Event Horizon Telescope (EHT):** In 2019, the EHT collaboration released the first image of a black hole's event horizon in the galaxy M87, providing visual evidence of their existence.\n",
        "\n",
        "---\n",
        "\n",
        "**6. Significance and Implications:**\n",
        "\n",
        "- **Astrophysics:** Black holes play a crucial role in the evolution of galaxies and the dynamics of the universe.\n",
        "\n",
        "- **Theoretical Physics:** They provide a testing ground for theories of gravity and quantum mechanics, particularly in the study of singularities and Hawking radiation.\n",
        "\n",
        "- **Cosmology:** Understanding black holes can offer insights into the early universe and the nature of dark matter and dark energy.\n",
        "\n",
        "---\n",
        "\n",
        "**7. Current Research and Future Directions:**\n",
        "\n",
        "- **Quantum Gravity:** Researchers are exploring the connections between black holes and quantum mechanics, particularly in the context of string theory and loop quantum gravity.\n",
        "\n",
        "- **Hawking Radiation:** Theoretical work continues on understanding the implications of Hawking radiation and its potential observability.\n",
        "\n",
        "- **Black Hole Information Paradox:** This paradox challenges our understanding of information loss in black holes and is a key area of research.\n",
        "\n",
        "- **Technological Advancements:** Future telescopes and space missions aim to provide more detailed observations of black holes and their environments.\n",
        "\n",
        "---\n",
        "\n",
        "**8. Conclusion:**\n",
        "\n",
        "Black holes remain one of the most intriguing subjects in modern astrophysics and cosmology. As our observational techniques and theoretical models continue to improve, we are likely to uncover more about these mysterious objects and their role in the universe. The study of black holes not only enhances our understanding of the cosmos but also challenges and expands the boundaries of fundamental physics.\n",
        "\n",
        "---\n",
        "\n",
        "**References:**\n",
        "\n",
        "- Einstein, A. (1916). The Foundation of the General Theory of Relativity.\n",
        "- LIGO Scientific Collaboration and Virgo Collaboration. (2016). Observation of Gravitational Waves from a Binary Black Hole Merger.\n",
        "- Event Horizon Telescope Collaboration. (2019). First M87 Event Horizon Telescope Results. I. The Shadow of the Supermassive Black Hole.\n",
        "\n",
        "(Note: This report is a synthesis of current scientific understanding and does not include specific data or findings beyond the general knowledge available as of October 2023.)\n",
        "========================================================================\n",
        "\n",
        "\n",
        "2nd LLM Call:\n",
        " The report provides a comprehensive overview of black holes, exploring their nature, formation, types, and significance in the universe. It discusses the theoretical framework of general relativity, which predicts black holes, and describes key features such as the event horizon and singularity. Various types of black holes, including stellar, supermassive, intermediate, and primordial, are examined, along with observational evidence like gravitational waves and X-ray emissions. The significance of black holes in astrophysics, theoretical physics, and cosmology is highlighted, alongside current research directions in quantum gravity and the black hole information paradox. The report concludes by emphasizing the ongoing advancements in observational techniques and theoretical models that continue to enhance our understanding of these enigmatic cosmic phenomena\n",
        "```"
      ],
      "metadata": {
        "id": "hGrggUOi2hM2"
      }
    },
    {
      "cell_type": "markdown",
      "source": [
        "Instead of calling `invoke` many times, we can use `chains`"
      ],
      "metadata": {
        "id": "iVkJ-Yll8N-W"
      }
    },
    {
      "cell_type": "markdown",
      "source": [
        "This is calling `chains` without string output parser. The output is not a simple string. We need to extract the string output from this."
      ],
      "metadata": {
        "id": "yqH0mPnW9ADu"
      }
    },
    {
      "cell_type": "code",
      "source": [
        "chain = template1 | model | template2 | model\n",
        "chain.invoke({'topic': 'black hole'})"
      ],
      "metadata": {
        "id": "pwJQmHF5dYqS"
      },
      "execution_count": null,
      "outputs": []
    },
    {
      "cell_type": "markdown",
      "source": [
        "**OUTPUT:**\n",
        "\n",
        "```\n",
        "AIMessage(content='The report \"Understanding Black Holes: A Comprehensive Overview\" explores the nature, formation, types, and significance of black holes in astrophysics. It discusses how black holes are formed from the gravitational collapse of massive stars and categorizes them into stellar, supermassive, intermediate, and primordial types. Key properties such as event horizons, singularities, and Hawking radiation are explained, along with observational evidence like gravitational waves and X-ray emissions. Theoretical implications challenge our understanding of physics, and recent advancements have led to discoveries about black hole mergers and their role in galaxy evolution. Despite progress, black holes remain a subject of ongoing research and intrigue in astrophysics.', additional_kwargs={'refusal': None}, response_metadata={'token_usage': {'completion_tokens': 134, 'prompt_tokens': 1562, 'total_tokens': 1696, 'completion_tokens_details': {'accepted_prediction_tokens': 0, 'audio_tokens': 0, 'reasoning_tokens': 0, 'rejected_prediction_tokens': 0}, 'prompt_tokens_details': {'audio_tokens': 0, 'cached_tokens': 0}}, 'model_name': 'gpt-4o-2024-08-06', 'system_fingerprint': 'fp_ee1d74bde0', 'id': 'chatcmpl-BlZMHWC11Kd3pyDdPT1V1FzXCWmdH', 'service_tier': None, 'prompt_filter_results': [{'prompt_index': 0, 'content_filter_results': {'hate': {'filtered': False, 'severity': 'safe'}, 'jailbreak': {'filtered': False, 'detected': False}, 'self_harm': {'filtered': False, 'severity': 'safe'}, 'sexual': {'filtered': False, 'severity': 'safe'}, 'violence': {'filtered': False, 'severity': 'safe'}}}], 'finish_reason': 'stop', 'logprobs': None, 'content_filter_results': {'hate': {'filtered': False, 'severity': 'safe'}, 'protected_material_code': {'filtered': False, 'detected': False}, 'protected_material_text': {'filtered': False, 'detected': False}, 'self_harm': {'filtered': False, 'severity': 'safe'}, 'sexual': {'filtered': False, 'severity': 'safe'}, 'violence': {'filtered': False, 'severity': 'safe'}}}, id='run--6b31a383-25f2-49e2-a644-5d49b59aa97e-0', usage_metadata={'input_tokens': 1562, 'output_tokens': 134, 'total_tokens': 1696, 'input_token_details': {'audio': 0, 'cache_read': 0}, 'output_token_details': {'audio': 0, 'reasoning': 0}})\n",
        "```"
      ],
      "metadata": {
        "id": "SH0ouoS42qqA"
      }
    },
    {
      "cell_type": "markdown",
      "source": [
        "This is calling `chains` with string output parser. The output is a string."
      ],
      "metadata": {
        "id": "ztfFBY1D9VUO"
      }
    },
    {
      "cell_type": "code",
      "source": [
        "from langchain_core.output_parsers import StrOutputParser\n",
        "\n",
        "parser = StrOutputParser()\n",
        "chain = template1 | model | parser | template2 | model | parser\n",
        "chain.invoke({'topic': 'black hole'})"
      ],
      "metadata": {
        "id": "4CEP5wA6e2nb"
      },
      "execution_count": null,
      "outputs": []
    },
    {
      "cell_type": "markdown",
      "source": [
        "**OUTPUT:**\n",
        "\n",
        "```\n",
        "The report offers a comprehensive overview of black holes, detailing their nature, formation, and types, as well as their significance in astrophysics. It explains the theoretical background, including general relativity, event horizons, and singularities, and describes how black holes form through stellar collapse, accretion, and mergers. Observational evidence such as gravitational waves, X-ray emissions, and the Event Horizon Telescope's image of a black hole are discussed. The significance of black holes in understanding the universe and recent technological advancements in their study are highlighted. The report concludes by emphasizing the ongoing research and technological innovation needed to further unravel the mysteries of black holes.\n",
        "```"
      ],
      "metadata": {
        "id": "7ukh9vdL3O2o"
      }
    },
    {
      "cell_type": "markdown",
      "source": [
        "### Why string output parser? why not use the conventional calling?\n",
        "\n",
        "Because of the output and ease of doing the downstream tasks"
      ],
      "metadata": {
        "id": "h0w9jCsuB_PO"
      }
    },
    {
      "cell_type": "code",
      "source": [
        "from langchain_core.output_parsers import StrOutputParser\n",
        "\n",
        "# Without parser - get full message object\n",
        "raw_output = model.invoke(\"Tell me a short fact about Paris\")\n",
        "print(f\"Raw output type: {type(raw_output)}\")\n",
        "print(f\"Raw output content: {raw_output}\\n\")\n",
        "\n",
        "# With parser - get clean string\n",
        "chain = model | StrOutputParser()\n",
        "parsed_output = chain.invoke(\"Tell me a short fact about Paris\")\n",
        "print(f\"Parsed output type: {type(parsed_output)}\")\n",
        "print(f\"Parsed output content: {parsed_output}\")"
      ],
      "metadata": {
        "id": "u-SsGgiBg7Rh"
      },
      "execution_count": null,
      "outputs": []
    },
    {
      "cell_type": "markdown",
      "source": [
        "OUTPUT:\n",
        "\n",
        "```\n",
        "Raw output type: <class 'langchain_core.messages.ai.AIMessage'>\n",
        "Raw output content: content='Paris is home to the Louvre Museum, which is the world\\'s largest art museum and a historic monument in the city. It houses thousands of works of art, including the famous \"Mona Lisa\" by Leonardo da Vinci.' additional_kwargs={'refusal': None} response_metadata={'token_usage': {'completion_tokens': 45, 'prompt_tokens': 14, 'total_tokens': 59, 'completion_tokens_details': {'accepted_prediction_tokens': 0, 'audio_tokens': 0, 'reasoning_tokens': 0, 'rejected_prediction_tokens': 0}, 'prompt_tokens_details': {'audio_tokens': 0, 'cached_tokens': 0}}, 'model_name': 'gpt-4o-2024-08-06', 'system_fingerprint': 'fp_ee1d74bde0', 'id': 'chatcmpl-BlZYUjsiyA19vq0mgazDoU8nG10Ls', 'service_tier': None, 'prompt_filter_results': [{'prompt_index': 0, 'content_filter_results': {'hate': {'filtered': False, 'severity': 'safe'}, 'jailbreak': {'filtered': False, 'detected': False}, 'self_harm': {'filtered': False, 'severity': 'safe'}, 'sexual': {'filtered': False, 'severity': 'safe'}, 'violence': {'filtered': False, 'severity': 'safe'}}}], 'finish_reason': 'stop', 'logprobs': None, 'content_filter_results': {'hate': {'filtered': False, 'severity': 'safe'}, 'self_harm': {'filtered': False, 'severity': 'safe'}, 'sexual': {'filtered': False, 'severity': 'safe'}, 'violence': {'filtered': False, 'severity': 'safe'}}} id='run--e28fb6b7-ec5d-4f39-aaf3-6a95f060169f-0' usage_metadata={'input_tokens': 14, 'output_tokens': 45, 'total_tokens': 59, 'input_token_details': {'audio': 0, 'cache_read': 0}, 'output_token_details': {'audio': 0, 'reasoning': 0}}\n",
        "\n",
        "Parsed output type: <class 'str'>\n",
        "Parsed output content: Paris is home to the Louvre Museum, which is the world's largest art museum and a historic monument in the city. It houses thousands of works of art, including the famous \"Mona Lisa\" by Leonardo da Vinci.\n",
        "```"
      ],
      "metadata": {
        "id": "--sctFeG3-an"
      }
    },
    {
      "cell_type": "markdown",
      "source": [
        "## JSON Output Parser"
      ],
      "metadata": {
        "id": "kysUzZ7Nh70e"
      }
    },
    {
      "cell_type": "code",
      "source": [
        "from langchain_core.output_parsers import JsonOutputParser\n",
        "parser = JsonOutputParser()\n",
        "\n",
        "template = PromptTemplate(\n",
        "                template=\"Give me the name, age and city of a fictional person \\n {format_instruction}\",\n",
        "                input_variables=[],\n",
        "                partial_variables={'format_instruction': parser.get_format_instructions()}\n",
        "              )\n",
        "\n",
        "# NOTE: partial variables populates the template so that you don't need to pass them in every time you call the prompt\n",
        "\n",
        "prompt = template.invoke({})\n",
        "result = model.invoke(prompt)\n",
        "\n",
        "print(\"PROMPT → \", prompt)\n",
        "print(\"\\nRAW LLM RESULT → \\n\", result.content)\n",
        "\n",
        "final_result = parser.parse(result.content)\n",
        "print(\"\\nPARSED LLM RESULT → \\n\", final_result)"
      ],
      "metadata": {
        "id": "RcFc0KEQi4vW"
      },
      "execution_count": null,
      "outputs": []
    },
    {
      "cell_type": "markdown",
      "source": [
        "**OUTPUT:**\n",
        "\n",
        "```\n",
        "PROMPT →  text='Give me the name, age and city of a fictional person \\n Return a JSON object.'\n",
        "\n",
        "RAW LLM RESULT →\n",
        " ```json\n",
        "{\n",
        "  \"name\": \"Alexandra Rivers\",\n",
        "  \"age\": 29,\n",
        "  \"city\": \"Evergreen Heights\"\n",
        "}\n",
        "```json\n",
        "\n",
        "PARSED LLM RESULT →\n",
        " {'name': 'Alexandra Rivers', 'age': 29, 'city': 'Evergreen Heights'}\n",
        "```"
      ],
      "metadata": {
        "id": "qKi-WSL94HVP"
      }
    },
    {
      "cell_type": "code",
      "source": [
        "from langchain_core.output_parsers import JsonOutputParser\n",
        "parser = JsonOutputParser()\n",
        "\n",
        "template = PromptTemplate(\n",
        "    template='Give me 5 facts about {topic} \\n {format_instruction}',\n",
        "    input_variables=['topic'],\n",
        "    partial_variables={'format_instruction': parser.get_format_instructions()}\n",
        ")\n",
        "\n",
        "chain = template | model | parser\n",
        "result = chain.invoke({'topic':'black hole'})\n",
        "print(type(result))\n",
        "print(result)"
      ],
      "metadata": {
        "id": "wYM7HryehxyQ"
      },
      "execution_count": null,
      "outputs": []
    },
    {
      "cell_type": "markdown",
      "source": [
        "**OUTPUT**\n",
        "\n",
        "```\n",
        "<class 'dict'>\n",
        "{'facts': [{'fact': 'Definition', 'description': 'A black hole is a region in space where the gravitational pull is so strong that nothing, not even light, can escape from it.'}, {'fact': 'Event Horizon', 'description': \"The boundary surrounding a black hole is called the event horizon. Once an object crosses this boundary, it cannot escape the black hole's gravitational pull.\"}, {'fact': 'Singularity', 'description': 'At the center of a black hole lies the singularity, a point where the gravitational forces are thought to be infinite and space-time curves infinitely.'}, {'fact': 'Formation', 'description': 'Black holes are formed when massive stars collapse under their own gravity at the end of their life cycles, often following a supernova explosion.'}, {'fact': 'Types', 'description': 'There are different types of black holes, including stellar black holes, supermassive black holes, and intermediate black holes, each varying in size and mass.'}]}\n",
        "```"
      ],
      "metadata": {
        "id": "K57yh8FT4bFG"
      }
    },
    {
      "cell_type": "markdown",
      "source": [
        "`Note:` JSON Output Parser doesn't allow the schema to be defined"
      ],
      "metadata": {
        "id": "EWi6YFzRpXlC"
      }
    },
    {
      "cell_type": "markdown",
      "source": [
        "## StructuredOutputParser"
      ],
      "metadata": {
        "id": "X02bWyGxqDbG"
      }
    },
    {
      "cell_type": "code",
      "source": [
        "from langchain.output_parsers import StructuredOutputParser, ResponseSchema\n",
        "\n",
        "schema = [\n",
        "      ResponseSchema(name = 'fact_1', description = 'Fact 1 about the topic'),\n",
        "      ResponseSchema(name = 'fact_2', description = 'Fact 2 about the topic'),\n",
        "      ResponseSchema(name = 'fact_3', description = 'Fact 3 about the topic')\n",
        "]\n",
        "\n",
        "parser = StructuredOutputParser.from_response_schemas(schema)\n",
        "\n",
        "template = PromptTemplate(\n",
        "    template='Give me 3 facts about {topic} \\n {format_instruction}',\n",
        "    input_variables=['topic'],\n",
        "    partial_variables={'format_instruction': parser.get_format_instructions()}\n",
        ")\n",
        "prompt = template.invoke({'topic':'black hole'})\n",
        "result = model.invoke(prompt)\n",
        "final_result = parser.parse(result.content)\n",
        "\n",
        "print(\"\\n\\nGET FORMAT INSTRUCTIONS:\\n\", parser.get_format_instructions())\n",
        "print(\"\\n\\nPROMPT:\\n\", prompt)\n",
        "print(\"\\n\\nFINAL RESULT:\\n\", final_result)"
      ],
      "metadata": {
        "id": "AfLWDKycioYY"
      },
      "execution_count": null,
      "outputs": []
    },
    {
      "cell_type": "markdown",
      "source": [
        "**OUTPUT:**\n",
        "\n",
        "GET FORMAT INSTRUCTIONS:\n",
        " The output should be a markdown code snippet formatted in the following schema, including the leading and trailing \"```json\" and \"```\":\n",
        "\n",
        "```json\n",
        "{\n",
        "\t\"fact_1\": string  // Fact 1 about the topic\n",
        "\t\"fact_2\": string  // Fact 2 about the topic\n",
        "\t\"fact_3\": string  // Fact 3 about the topic\n",
        "}\n",
        "```\n",
        "\n",
        "\n",
        "PROMPT:\n",
        " text='Give me 3 facts about black hole \\n The output should be a markdown code snippet formatted in the following schema, including the leading and trailing \"```json\" and \"```\":\\n\\n```json\\n{\\n\\t\"fact_1\": string  // Fact 1 about the topic\\n\\t\"fact_2\": string  // Fact 2 about the topic\\n\\t\"fact_3\": string  // Fact 3 about the topic\\n}\\n```'\n",
        "\n",
        "\n",
        "FINAL RESULT:\n",
        " {'fact_1': 'A black hole is a region in space where the gravitational pull is so strong that nothing, not even light, can escape from it.', 'fact_2': 'The boundary surrounding a black hole is called the event horizon, beyond which events cannot affect an outside observer.', 'fact_3': 'Black holes can vary in size, with stellar black holes being formed from the remnants of massive stars and supermassive black holes residing at the centers of most galaxies.'}"
      ],
      "metadata": {
        "id": "Vlwg2c684i4N"
      }
    },
    {
      "cell_type": "code",
      "source": [
        "from langchain.output_parsers import StructuredOutputParser, ResponseSchema\n",
        "\n",
        "schema = [\n",
        "      ResponseSchema(name = 'fact_1', description = 'Fact 1 about the topic'),\n",
        "      ResponseSchema(name = 'fact_2', description = 'Fact 2 about the topic'),\n",
        "      ResponseSchema(name = 'fact_3', description = 'Fact 3 about the topic')\n",
        "]\n",
        "\n",
        "parser = StructuredOutputParser.from_response_schemas(schema)\n",
        "\n",
        "template = PromptTemplate(\n",
        "    template='Give me 3 facts about {topic} \\n {format_instruction}',\n",
        "    input_variables=['topic'],\n",
        "    partial_variables={'format_instruction': parser.get_format_instructions()}\n",
        ")\n",
        "\n",
        "chain = template | model | parser\n",
        "final_result = chain.invoke({'topic':'black hole'})\n",
        "\n",
        "print(\"FINAL RESULT:\\n\", final_result)"
      ],
      "metadata": {
        "id": "mGJylg9wqXx4"
      },
      "execution_count": null,
      "outputs": []
    },
    {
      "cell_type": "markdown",
      "source": [
        "**OUTPUT:**\n",
        "\n",
        "```\n",
        "FINAL RESULT:\n",
        " {'fact_1': 'A black hole is a region in space where the gravitational pull is so strong that nothing, not even light, can escape from it.', 'fact_2': 'The boundary surrounding a black hole is called the event horizon, beyond which events cannot affect an outside observer.', 'fact_3': 'Black holes can vary in size, with stellar black holes being formed from the remnants of massive stars and supermassive black holes residing at the centers of most galaxies.'}\n",
        "```\n",
        "\n"
      ],
      "metadata": {
        "id": "wHEUZjg_4wLF"
      }
    },
    {
      "cell_type": "markdown",
      "source": [
        "`NOTE:` We can't perform data validtion on structured output parser. For data validtion, we need to use PydanticOutputParser."
      ],
      "metadata": {
        "id": "NVWXfjktsbYe"
      }
    },
    {
      "cell_type": "markdown",
      "source": [
        "## PydanticOutputParser"
      ],
      "metadata": {
        "id": "KmCR-Sq9su5J"
      }
    },
    {
      "cell_type": "code",
      "source": [
        "from langchain_core.output_parsers import PydanticOutputParser\n",
        "from pydantic import BaseModel, Field\n",
        "\n",
        "class Person(BaseModel):\n",
        "  name: str = Field(description='Name of the person')\n",
        "  age: int = Field(description='Age of the person')\n",
        "  city: str = Field(description='City of the person')\n",
        "\n",
        "parser = PydanticOutputParser(pydantic_object=Person)\n",
        "\n",
        "template = PromptTemplate(\n",
        "    template='Give me the name, age and city of a fictional {place} person \\n {format_instruction}',\n",
        "    input_variables=['place'],\n",
        "    partial_variables={'format_instruction': parser.get_format_instructions()}\n",
        ")\n",
        "prompt = template.invoke({'place': 'Indian'})\n",
        "print(prompt)\n"
      ],
      "metadata": {
        "id": "GJBEvArcsSkZ"
      },
      "execution_count": null,
      "outputs": []
    },
    {
      "cell_type": "markdown",
      "source": [
        "OUTPUT:\n",
        "\n",
        "```\n",
        "text='Give me the name, age and city of a fictional Indian person \\n The output should be formatted as a JSON instance that conforms to the JSON schema below.\\n\\nAs an example, for the schema {\"properties\": {\"foo\": {\"title\": \"Foo\", \"description\": \"a list of strings\", \"type\": \"array\", \"items\": {\"type\": \"string\"}}}, \"required\": [\"foo\"]}\\nthe object {\"foo\": [\"bar\", \"baz\"]} is a well-formatted instance of the schema. The object {\"properties\": {\"foo\": [\"bar\", \"baz\"]}} is not well-formatted.\\n\\nHere is the output schema:\\n```\\n{\"properties\": {\"name\": {\"description\": \"Name of the person\", \"title\": \"Name\", \"type\": \"string\"}, \"age\": {\"description\": \"Age of the person\", \"title\": \"Age\", \"type\": \"integer\"}, \"city\": {\"description\": \"City of the person\", \"title\": \"City\", \"type\": \"string\"}}, \"required\": [\"name\", \"age\", \"city\"]}\\n```'\n",
        "```"
      ],
      "metadata": {
        "id": "P3aEvOip48Iu"
      }
    },
    {
      "cell_type": "code",
      "source": [
        "parser.parse(model.invoke(prompt).content)"
      ],
      "metadata": {
        "id": "8PB7P2untluO"
      },
      "execution_count": null,
      "outputs": []
    },
    {
      "cell_type": "markdown",
      "source": [
        "OUTPUT:\n",
        "\n",
        "```\n",
        "Person(name='Aarav Sharma', age=28, city='Mumbai')\n",
        "```"
      ],
      "metadata": {
        "id": "vOYzz82w4_XG"
      }
    },
    {
      "cell_type": "code",
      "source": [
        "chains = template | model | parser\n",
        "chains.invoke({'place': 'Indian'})"
      ],
      "metadata": {
        "id": "bPEbMh94x-YO"
      },
      "execution_count": null,
      "outputs": []
    },
    {
      "cell_type": "markdown",
      "source": [
        "OUTPUT:\n",
        "\n",
        "```\n",
        "chains = template | model | parser\n",
        "chains.invoke({'place': 'Indian'})\n",
        "```"
      ],
      "metadata": {
        "id": "sas9FEo15BxN"
      }
    },
    {
      "cell_type": "code",
      "source": [],
      "metadata": {
        "id": "FqMhpUuLyTKm"
      },
      "execution_count": null,
      "outputs": []
    }
  ]
}