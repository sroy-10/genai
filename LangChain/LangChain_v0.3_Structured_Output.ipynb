{
  "nbformat": 4,
  "nbformat_minor": 0,
  "metadata": {
    "colab": {
      "provenance": [],
      "authorship_tag": "ABX9TyN/zurT6O+y1kl+0YKM6uvM",
      "include_colab_link": true
    },
    "kernelspec": {
      "name": "python3",
      "display_name": "Python 3"
    },
    "language_info": {
      "name": "python"
    }
  },
  "cells": [
    {
      "cell_type": "markdown",
      "metadata": {
        "id": "view-in-github",
        "colab_type": "text"
      },
      "source": [
        "<a href=\"https://colab.research.google.com/github/sroy-10/genai/blob/main/LangChain/LangChain_v0.3_Structured_Output.ipynb\" target=\"_parent\"><img src=\"https://colab.research.google.com/assets/colab-badge.svg\" alt=\"Open In Colab\"/></a>"
      ]
    },
    {
      "cell_type": "code",
      "execution_count": null,
      "metadata": {
        "id": "ShwgHOH6Oe9H"
      },
      "outputs": [],
      "source": [
        "!pip install -r requirements.txt -q"
      ]
    },
    {
      "cell_type": "code",
      "source": [
        "import os\n",
        "import langchain\n",
        "from dotenv import load_dotenv\n",
        "load_dotenv(\"var.env\")\n",
        "\n",
        "print(langchain.__version__) # 0.3.25"
      ],
      "metadata": {
        "id": "mMGJ32YfOsu8"
      },
      "execution_count": null,
      "outputs": []
    },
    {
      "cell_type": "code",
      "source": [
        "from langchain_openai import AzureChatOpenAI\n",
        "\n",
        "os.environ[\"AZURE_OPENAI_API_KEY\"] = os.environ[\"AZ_API_KEY\"]\n",
        "os.environ[\"AZURE_OPENAI_ENDPOINT\"] = os.getenv(\"AZ_BASE\") # https://YOUR-ENDPOINT.openai.azure.com/\n",
        "\n",
        "model = AzureChatOpenAI(\n",
        "    azure_deployment=os.getenv(\"AZ_MODEL\"),\n",
        "    api_version=os.getenv(\"AZ_API_VERSION\"),\n",
        "    temperature=0,\n",
        "    max_tokens=None,\n",
        "    timeout=None,\n",
        "    max_retries=2,\n",
        "    # other params...\n",
        ")\n"
      ],
      "metadata": {
        "id": "8Bpyk8yHO3t2"
      },
      "execution_count": null,
      "outputs": []
    },
    {
      "cell_type": "markdown",
      "source": [
        "## With Structurd Output"
      ],
      "metadata": {
        "id": "mosZpVr6UF6R"
      }
    },
    {
      "cell_type": "code",
      "source": [
        "from typing import TypedDict\n",
        "\n",
        "class Review(TypedDict):\n",
        "  summary: str\n",
        "  sentiment: str\n",
        "\n",
        "structured_model = model.with_structured_output(Review)\n",
        "\n",
        "result = structured_model. invoke(\"\"\"The hardware is great, but the software feels bloated. There are too many pre-installed apps that I can't remove. Also, the UI looks outdated compared to other brands. Hoping for a software update to fix this.\"\"\")\n",
        "\n",
        "result"
      ],
      "metadata": {
        "id": "1zYT_36xPC3H"
      },
      "execution_count": null,
      "outputs": []
    },
    {
      "cell_type": "markdown",
      "source": [
        "Output:\n",
        "\n",
        "```\n",
        "{'summary': 'The user appreciates the hardware quality but is dissatisfied with the software experience due to excessive pre-installed apps and an outdated user interface.',\n",
        " 'sentiment': 'mixed'}\n",
        "```"
      ],
      "metadata": {
        "id": "w2R8jXWuQlEy"
      }
    },
    {
      "cell_type": "code",
      "source": [
        "from typing import Annotated\n",
        "\n",
        "class Review(TypedDict):\n",
        "  summary: Annotated[str, \"A brief summary of the review\"]\n",
        "  sentiment: Annotated[str, \"Return sentiment of the review, either 'negative', 'positive' or 'neutral'\"]\n",
        "\n",
        "structured_model = model.with_structured_output(Review)\n",
        "result = structured_model. invoke(\"\"\"The hardware is great, but the software feels bloated. There are too many pre-installed apps that I can't remove. Also, the UI looks outdated compared to other brands. Hoping for a software update to fix this.\"\"\")\n",
        "\n",
        "result\n"
      ],
      "metadata": {
        "id": "STtkrdMVUjNb"
      },
      "execution_count": null,
      "outputs": []
    },
    {
      "cell_type": "markdown",
      "source": [
        "Output:\n",
        "```\n",
        "{'summary': 'The user appreciates the hardware quality but is dissatisfied with the software experience due to bloatware and an outdated user interface.',\n",
        " 'sentiment': 'mixed'}\n",
        "```"
      ],
      "metadata": {
        "id": "rVdrgo4-Qo7i"
      }
    },
    {
      "cell_type": "markdown",
      "source": [
        "The validation is not being performed properly. Sentiment should be either in `negative`, `positive` or `negative`. But still `mixed` is coming."
      ],
      "metadata": {
        "id": "GB7MMiKuYMq_"
      }
    },
    {
      "cell_type": "code",
      "source": [
        "from typing import Optional, Literal\n",
        "\n",
        "review_text = \"\"\"I recently upgraded to the Samsung Galaxy S24 Ultra, and I must say, it’s an absolute powerhouse! The Snapdragon 8 Gen 3 processor makes everything lightning fast—whether I’m gaming, multitasking, or editing photos. The 5000mAh battery easily lasts a full day even with heavy use, and the 45W fast charging is a lifesaver.\n",
        "\n",
        "The S-Pen integration is a great touch for note-taking and quick sketches, though I don't use it often. What really blew me away is the 200MP camera—the night mode is stunning, capturing crisp, vibrant images even in low light. Zooming up to 100x actually works well for distant objects, but anything beyond 30x loses quality.\n",
        "\n",
        "However, the weight and size make it a bit uncomfortable for one-handed use. Also, Samsung’s One UI still comes with bloatware—why do I need five different Samsung apps for things Google already provides? The $1,300 price tag is also a hard pill to swallow.\n",
        "\n",
        "Pros:\n",
        "Insanely powerful processor (great for gaming and productivity)\n",
        "Stunning 200MP camera with incredible zoom capabilities\n",
        "Long battery life with fast charging\n",
        "S-Pen support is unique and useful\n",
        "\n",
        "Review by Nitish Singh\"\"\"\n",
        "\n",
        "# schema\n",
        "class Review(TypedDict):\n",
        "\n",
        "    key_themes: Annotated[list[str], \"Write down all the key themes discussed in the review in a list\"]\n",
        "    summary: Annotated[str, \"A brief summary of the review\"]\n",
        "    sentiment: Annotated[Literal[\"pos\", \"neg\"], \"Return sentiment of the review either negative, positive or neutral\"]\n",
        "    pros: Annotated[Optional[list[str]], \"Write down all the pros inside a list\"]\n",
        "    cons: Annotated[Optional[list[str]], \"Write down all the cons inside a list\"]\n",
        "    name: Annotated[Optional[str], \"Write the name of the reviewer\"]\n",
        "\n",
        "structured_model = model.with_structured_output(Review)\n",
        "structured_model.invoke(review_text)\n"
      ],
      "metadata": {
        "id": "ZD_dWE9LW_fg"
      },
      "execution_count": null,
      "outputs": []
    },
    {
      "cell_type": "markdown",
      "source": [
        "Output:\n",
        "\n",
        "```\n",
        "{'key_themes': ['Performance',\n",
        "  'Camera Quality',\n",
        "  'Battery Life',\n",
        "  'S-Pen Integration',\n",
        "  'User Interface',\n",
        "  'Price'],\n",
        " 'summary': 'The Samsung Galaxy S24 Ultra is a high-performance smartphone that excels in processing power, camera capabilities, and battery life, but is slightly hindered by its size, weight, and pre-installed software.',\n",
        " 'sentiment': 'pos',\n",
        " 'pros': ['Insanely powerful Snapdragon 8 Gen 3 processor',\n",
        "  'Stunning 200MP camera with excellent night mode and zoom capabilities',\n",
        "  'Long-lasting 5000mAh battery with 45W fast charging',\n",
        "  'Unique and useful S-Pen integration for note-taking and sketches'],\n",
        " 'cons': ['Bulky and heavy, making one-handed use uncomfortable',\n",
        "  \"Presence of bloatware in Samsung's One UI\",\n",
        "  'High price point at $1,300'],\n",
        " 'name': 'Samsung Galaxy S24 Ultra Review'}\n",
        "```"
      ],
      "metadata": {
        "id": "iDfcRs0HQs6B"
      }
    },
    {
      "cell_type": "markdown",
      "source": [
        "## Pydantic"
      ],
      "metadata": {
        "id": "1RXdzmdXbS2I"
      }
    },
    {
      "cell_type": "code",
      "source": [
        "!pip install pydantic -q"
      ],
      "metadata": {
        "id": "5QXPoyANaMMW"
      },
      "execution_count": null,
      "outputs": []
    },
    {
      "cell_type": "code",
      "source": [
        "from langchain_openai import ChatOpenAI\n",
        "from typing import TypedDict, Annotated, Optional, Literal\n",
        "from pydantic import BaseModel, Field\n",
        "\n",
        "# schema\n",
        "class Review(BaseModel):\n",
        "\n",
        "    key_themes: list[str] = Field(description=\"Write down all the key themes discussed in the review in a list\")\n",
        "    summary: str = Field(description=\"A brief summary of the review\")\n",
        "    sentiment: Literal[\"pos\", \"neg\"] = Field(description=\"Return sentiment of the review either negative, positive or neutral\")\n",
        "    pros: Optional[list[str]] = Field(default=None, description=\"Write down all the pros inside a list\")\n",
        "    cons: Optional[list[str]] = Field(default=None, description=\"Write down all the cons inside a list\")\n",
        "    name: Optional[str] = Field(default=None, description=\"Write the name of the reviewer\")\n",
        "\n",
        "\n",
        "structured_model = model.with_structured_output(Review)\n",
        "\n",
        "result = structured_model.invoke(\"\"\"I recently upgraded to the Samsung Galaxy S24 Ultra, and I must say, it’s an absolute powerhouse! The Snapdragon 8 Gen 3 processor makes everything lightning fast—whether I’m gaming, multitasking, or editing photos. The 5000mAh battery easily lasts a full day even with heavy use, and the 45W fast charging is a lifesaver.\n",
        "\n",
        "The S-Pen integration is a great touch for note-taking and quick sketches, though I don't use it often. What really blew me away is the 200MP camera—the night mode is stunning, capturing crisp, vibrant images even in low light. Zooming up to 100x actually works well for distant objects, but anything beyond 30x loses quality.\n",
        "\n",
        "However, the weight and size make it a bit uncomfortable for one-handed use. Also, Samsung’s One UI still comes with bloatware—why do I need five different Samsung apps for things Google already provides? The $1,300 price tag is also a hard pill to swallow.\n",
        "\n",
        "Pros:\n",
        "Insanely powerful processor (great for gaming and productivity)\n",
        "Stunning 200MP camera with incredible zoom capabilities\n",
        "Long battery life with fast charging\n",
        "S-Pen support is unique and useful\n",
        "\n",
        "Review by Nitish Singh\n",
        "\"\"\")\n",
        "\n",
        "print(result)"
      ],
      "metadata": {
        "id": "wjIgCca2bVZ1"
      },
      "execution_count": null,
      "outputs": []
    },
    {
      "cell_type": "markdown",
      "source": [
        "Output:\n",
        "\n",
        "```\n",
        "key_themes=['Performance', 'Camera quality', 'Battery life', 'S-Pen functionality', 'User interface', 'Price'] summary='The Samsung Galaxy S24 Ultra impresses with its powerful performance, exceptional camera capabilities, and long-lasting battery life, but falls short in terms of user interface and price.' sentiment='pos' pros=['Insanely powerful processor (great for gaming and productivity)', 'Stunning 200MP camera with incredible zoom capabilities', 'Long battery life with fast charging', 'S-Pen support is unique and useful'] cons=['Weight and size make it uncomfortable for one-handed use', 'Samsung’s One UI comes with bloatware', 'High price tag'] name='Nitish Singh'\n",
        "```"
      ],
      "metadata": {
        "id": "Bt4zhF6NQyXZ"
      }
    },
    {
      "cell_type": "markdown",
      "source": [
        "## JSON Schema"
      ],
      "metadata": {
        "id": "O5VLpub-RNkJ"
      }
    },
    {
      "cell_type": "code",
      "source": [
        "from langchain_openai import ChatOpenAI\n",
        "from typing import TypedDict, Annotated, Optional, Literal\n",
        "from pydantic import BaseModel, Field\n",
        "\n",
        "# schema\n",
        "json_schema = {\n",
        "  \"title\": \"Review\",\n",
        "  \"type\": \"object\",\n",
        "  \"properties\": {\n",
        "    \"key_themes\": {\n",
        "      \"type\": \"array\",\n",
        "      \"items\": {\n",
        "        \"type\": \"string\"\n",
        "      },\n",
        "      \"description\": \"Write down all the key themes discussed in the review in a list\"\n",
        "    },\n",
        "    \"summary\": {\n",
        "      \"type\": \"string\",\n",
        "      \"description\": \"A brief summary of the review\"\n",
        "    },\n",
        "    \"sentiment\": {\n",
        "      \"type\": \"string\",\n",
        "      \"enum\": [\"pos\", \"neg\"],\n",
        "      \"description\": \"Return sentiment of the review either negative, positive or neutral\"\n",
        "    },\n",
        "    \"pros\": {\n",
        "      \"type\": [\"array\", \"null\"],\n",
        "      \"items\": {\n",
        "        \"type\": \"string\"\n",
        "      },\n",
        "      \"description\": \"Write down all the pros inside a list\"\n",
        "    },\n",
        "    \"cons\": {\n",
        "      \"type\": [\"array\", \"null\"],\n",
        "      \"items\": {\n",
        "        \"type\": \"string\"\n",
        "      },\n",
        "      \"description\": \"Write down all the cons inside a list\"\n",
        "    },\n",
        "    \"name\": {\n",
        "      \"type\": [\"string\", \"null\"],\n",
        "      \"description\": \"Write the name of the reviewer\"\n",
        "    }\n",
        "  },\n",
        "  \"required\": [\"key_themes\", \"summary\", \"sentiment\"]\n",
        "}\n",
        "\n",
        "\n",
        "structured_model = model.with_structured_output(json_schema)\n",
        "\n",
        "result = structured_model.invoke(\"\"\"I recently upgraded to the Samsung Galaxy S24 Ultra, and I must say, it’s an absolute powerhouse! The Snapdragon 8 Gen 3 processor makes everything lightning fast—whether I’m gaming, multitasking, or editing photos. The 5000mAh battery easily lasts a full day even with heavy use, and the 45W fast charging is a lifesaver.\n",
        "\n",
        "The S-Pen integration is a great touch for note-taking and quick sketches, though I don't use it often. What really blew me away is the 200MP camera—the night mode is stunning, capturing crisp, vibrant images even in low light. Zooming up to 100x actually works well for distant objects, but anything beyond 30x loses quality.\n",
        "\n",
        "However, the weight and size make it a bit uncomfortable for one-handed use. Also, Samsung’s One UI still comes with bloatware—why do I need five different Samsung apps for things Google already provides? The $1,300 price tag is also a hard pill to swallow.\n",
        "\n",
        "Pros:\n",
        "Insanely powerful processor (great for gaming and productivity)\n",
        "Stunning 200MP camera with incredible zoom capabilities\n",
        "Long battery life with fast charging\n",
        "S-Pen support is unique and useful\n",
        "\n",
        "Review by Nitish Singh\n",
        "\"\"\")\n",
        "\n",
        "print(result)"
      ],
      "metadata": {
        "id": "2DBlYJQTbVRR"
      },
      "execution_count": null,
      "outputs": []
    },
    {
      "cell_type": "markdown",
      "source": [
        "Output:\n",
        "```\n",
        "{'key_themes': ['Powerful Snapdragon 8 Gen 3 processor', 'Excellent performance for gaming and multitasking', 'Long-lasting 5000mAh battery', 'Fast 45W charging', 'Impressive 200MP camera with night mode', 'Effective zoom up to 30x', 'S-Pen integration', 'Device weight and size', 'Presence of bloatware in One UI', 'High price point'], 'summary': 'The Samsung Galaxy S24 Ultra impresses with its powerful performance, exceptional camera capabilities, and long battery life, though it is slightly hindered by its size, bloatware, and high price.', 'sentiment': 'pos', 'pros': ['Insanely powerful processor (great for gaming and productivity)', 'Stunning 200MP camera with incredible zoom capabilities', 'Long battery life with fast charging', 'S-Pen support is unique and useful'], 'cons': ['Weight and size make it uncomfortable for one-handed use', 'Presence of bloatware in One UI', 'High $1,300 price tag'], 'name': 'Nitish Singh'}\n",
        "```"
      ],
      "metadata": {
        "id": "jOdMxgRQRVgY"
      }
    },
    {
      "cell_type": "code",
      "source": [],
      "metadata": {
        "id": "RK1VAP1pRR8p"
      },
      "execution_count": null,
      "outputs": []
    }
  ]
}